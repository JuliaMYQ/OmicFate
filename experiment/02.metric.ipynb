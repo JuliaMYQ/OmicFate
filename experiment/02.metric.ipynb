{
 "cells": [
  {
   "cell_type": "code",
   "execution_count": 1,
   "id": "c44de188-a71c-4553-91f7-a9e7eb0fe2c5",
   "metadata": {},
   "outputs": [
    {
     "name": "stdout",
     "output_type": "stream",
     "text": [
      "\n",
      "   ____            _     _    __                  \n",
      "  / __ \\____ ___  (_)___| |  / /__  _____________ \n",
      " / / / / __ `__ \\/ / ___/ | / / _ \\/ ___/ ___/ _ \\ \n",
      "/ /_/ / / / / / / / /__ | |/ /  __/ /  (__  )  __/ \n",
      "\\____/_/ /_/ /_/_/\\___/ |___/\\___/_/  /____/\\___/                                              \n",
      "\n",
      "Version: 1.6.4, Tutorials: https://omicverse.readthedocs.io/\n",
      "All dependencies are satisfied.\n"
     ]
    }
   ],
   "source": [
    "import omicverse as ov\n",
    "#import scvelo as scv\n",
    "import pandas as pd\n",
    "import numpy as np\n",
    "import matplotlib.pyplot as plt\n",
    "\n",
    "ov.ov_plot_set()\n"
   ]
  },
  {
   "cell_type": "code",
   "execution_count": 2,
   "id": "72ca300c-b8f6-4ccb-9af6-ee6478712819",
   "metadata": {},
   "outputs": [],
   "source": [
    "import os\n",
    "meta_li=[i for i in os.listdir('result') if 'meta' in i]\n",
    "raw_li=[i for i in os.listdir('result') if ('meta' not in i)&('ipy' not in i)&('pth' not in i)&('xlsx' not in i)]"
   ]
  },
  {
   "cell_type": "code",
   "execution_count": 7,
   "id": "596ebf70-770f-4e06-9612-13a41fdff02c",
   "metadata": {},
   "outputs": [],
   "source": [
    "raw_li=['hsc_raw_coef.csv','dg_raw_coef.csv','pancera_raw_coef.csv']"
   ]
  },
  {
   "cell_type": "code",
   "execution_count": 8,
   "id": "b77e44b7-a7cf-460e-acca-23197e4ee86d",
   "metadata": {},
   "outputs": [],
   "source": [
    "raw_dict={}\n",
    "for i in raw_li:\n",
    "    raw_dict[i.split('_')[0]]=pd.read_csv(f\"result/{i}\",index_col=0)"
   ]
  },
  {
   "cell_type": "code",
   "execution_count": 76,
   "id": "dbb45ecc-ff7b-4b8f-9094-a62ee05c43fc",
   "metadata": {},
   "outputs": [
    {
     "data": {
      "text/plain": [
       "{'hsc':                mse      rmse       mae        r2  num_genes  Kendalltau  \\\n",
       " pearsonr  0.004276  0.065394  0.047175  0.920113      125.0    0.382785   \n",
       " omicfate  0.003026  0.055005  0.038913  0.943480       74.0    0.690959   \n",
       " \n",
       "           Linregress  \n",
       " pearsonr    0.372667  \n",
       " omicfate    0.559452  ,\n",
       " 'dg':                   mse      rmse       mae        r2  num_genes  Kendalltau  \\\n",
       " pearsonr     0.005783  0.076047  0.054288  0.875072      146.0    0.758071   \n",
       " omicfate     0.008826  0.093948  0.071969  0.809333      106.0    0.877412   \n",
       " likelihoods  0.008046  0.089699  0.065664  0.826190      200.0    0.872844   \n",
       " \n",
       "              Linregress  \n",
       " pearsonr       0.715595  \n",
       " omicfate       0.913941  \n",
       " likelihoods    0.901087  ,\n",
       " 'pancera':                   mse      rmse       mae        r2  num_genes  Kendalltau  \\\n",
       " pearsonr     0.002197  0.046877  0.036625  0.978669      290.0    0.927444   \n",
       " omicfate     0.003624  0.060198  0.047534  0.964824      152.0    0.911992   \n",
       " likelihoods  0.004496  0.067052  0.051888  0.956358      200.0    0.903738   \n",
       " \n",
       "              Linregress  \n",
       " pearsonr       0.883292  \n",
       " omicfate       0.951861  \n",
       " likelihoods    0.962838  }"
      ]
     },
     "execution_count": 76,
     "metadata": {},
     "output_type": "execute_result"
    }
   ],
   "source": [
    "raw_dict"
   ]
  },
  {
   "cell_type": "markdown",
   "id": "480ea067-7d50-4990-96d0-ad5c094cb5ce",
   "metadata": {},
   "source": [
    "## Linregress"
   ]
  },
  {
   "cell_type": "code",
   "execution_count": 71,
   "id": "4b325a46-feb5-4429-9b06-aea48957a444",
   "metadata": {},
   "outputs": [
    {
     "data": {
      "text/html": [
       "<div>\n",
       "<style scoped>\n",
       "    .dataframe tbody tr th:only-of-type {\n",
       "        vertical-align: middle;\n",
       "    }\n",
       "\n",
       "    .dataframe tbody tr th {\n",
       "        vertical-align: top;\n",
       "    }\n",
       "\n",
       "    .dataframe thead th {\n",
       "        text-align: right;\n",
       "    }\n",
       "</style>\n",
       "<table border=\"1\" class=\"dataframe\">\n",
       "  <thead>\n",
       "    <tr style=\"text-align: right;\">\n",
       "      <th></th>\n",
       "      <th>Linregress</th>\n",
       "      <th>dataset</th>\n",
       "      <th>method</th>\n",
       "    </tr>\n",
       "  </thead>\n",
       "  <tbody>\n",
       "    <tr>\n",
       "      <th>0</th>\n",
       "      <td>0.372667</td>\n",
       "      <td>HSC</td>\n",
       "      <td>pearsonr</td>\n",
       "    </tr>\n",
       "    <tr>\n",
       "      <th>1</th>\n",
       "      <td>0.559452</td>\n",
       "      <td>HSC</td>\n",
       "      <td>omicfate</td>\n",
       "    </tr>\n",
       "    <tr>\n",
       "      <th>2</th>\n",
       "      <td>0.715595</td>\n",
       "      <td>DG</td>\n",
       "      <td>pearsonr</td>\n",
       "    </tr>\n",
       "    <tr>\n",
       "      <th>3</th>\n",
       "      <td>0.913941</td>\n",
       "      <td>DG</td>\n",
       "      <td>omicfate</td>\n",
       "    </tr>\n",
       "    <tr>\n",
       "      <th>4</th>\n",
       "      <td>0.901087</td>\n",
       "      <td>DG</td>\n",
       "      <td>likelihoods</td>\n",
       "    </tr>\n",
       "    <tr>\n",
       "      <th>5</th>\n",
       "      <td>0.883292</td>\n",
       "      <td>Pancreas</td>\n",
       "      <td>pearsonr</td>\n",
       "    </tr>\n",
       "    <tr>\n",
       "      <th>6</th>\n",
       "      <td>0.951861</td>\n",
       "      <td>Pancreas</td>\n",
       "      <td>omicfate</td>\n",
       "    </tr>\n",
       "    <tr>\n",
       "      <th>7</th>\n",
       "      <td>0.962838</td>\n",
       "      <td>Pancreas</td>\n",
       "      <td>likelihoods</td>\n",
       "    </tr>\n",
       "  </tbody>\n",
       "</table>\n",
       "</div>"
      ],
      "text/plain": [
       "   Linregress   dataset       method\n",
       "0    0.372667       HSC     pearsonr\n",
       "1    0.559452       HSC     omicfate\n",
       "2    0.715595        DG     pearsonr\n",
       "3    0.913941        DG     omicfate\n",
       "4    0.901087        DG  likelihoods\n",
       "5    0.883292  Pancreas     pearsonr\n",
       "6    0.951861  Pancreas     omicfate\n",
       "7    0.962838  Pancreas  likelihoods"
      ]
     },
     "execution_count": 71,
     "metadata": {},
     "output_type": "execute_result"
    }
   ],
   "source": [
    "name='Linregress'\n",
    "plot_data=pd.DataFrame(columns=[name,'dataset','method'])\n",
    "for i in raw_dict.keys():\n",
    "    p1=pd.DataFrame(raw_dict[i][name])\n",
    "    p1['dataset']=i\n",
    "    p1['method']=p1.index\n",
    "    plot_data=pd.concat([plot_data,p1],ignore_index=True)\n",
    "plot_data['dataset']=plot_data['dataset'].map({\n",
    "    'hsc':'HSC',\n",
    "    'dg':'DG',\n",
    "    'pancera':'Pancreas',\n",
    "})\n",
    "plot_data"
   ]
  },
  {
   "cell_type": "code",
   "execution_count": 72,
   "id": "7fc8a3a7-30f5-4467-b0e0-aa852ee4f531",
   "metadata": {},
   "outputs": [
    {
     "name": "stdout",
     "output_type": "stream",
     "text": [
      "All dependencies are satisfied.\n"
     ]
    }
   ],
   "source": [
    "ov.plot_set()"
   ]
  },
  {
   "cell_type": "code",
   "execution_count": 73,
   "id": "fa751390-af32-4939-8dfc-1fbfce9b62ad",
   "metadata": {},
   "outputs": [],
   "source": [
    "color_dict=dict(zip(methods,\n",
    "                   ov.pl.sc_color[1:4]))"
   ]
  },
  {
   "cell_type": "code",
   "execution_count": 74,
   "id": "083969e6-385b-4fa5-88cd-76b3cb88d38f",
   "metadata": {},
   "outputs": [
    {
     "data": {
      "image/png": "[encoded data removed]",
      "text/plain": [
       "<Figure size 240x240 with 1 Axes>"
      ]
     },
     "metadata": {
      "image/png": {
       "height": 276,
       "width": 317
      }
     },
     "output_type": "display_data"
    }
   ],
   "source": [
    "# 获取唯一的dataset和method\n",
    "datasets = plot_data['dataset'].unique()\n",
    "methods = plot_data['method'].unique()\n",
    "\n",
    "# 设置柱状图的位置和宽度\n",
    "x = np.arange(len(datasets))\n",
    "width = 0.2\n",
    "\n",
    "# 创建一个图表\n",
    "fig, ax = plt.subplots(figsize=(3, 3))\n",
    "\n",
    "# 为每种方法绘制柱状图\n",
    "for i, method in enumerate(methods):\n",
    "    mse_values = []\n",
    "    for dataset in datasets:\n",
    "        value = plot_data[(plot_data['method'] == method) & (plot_data['dataset'] == dataset)][name]\n",
    "        mse_values.append(value.values[0] if not value.empty else 0)\n",
    "    ax.bar(x + i * width, mse_values, width, label=method, alpha=0.6,color=color_dict[method])\n",
    "\n",
    "ax.spines['left'].set_position(('outward', 20))\n",
    "ax.spines['bottom'].set_position(('outward', 20))\n",
    "\n",
    "ax.spines['top'].set_visible(False)\n",
    "ax.spines['right'].set_visible(False)\n",
    "ax.spines['bottom'].set_visible(True)\n",
    "ax.spines['left'].set_visible(True)\n",
    "\n",
    "ax.grid(False)\n",
    "\n",
    "# 设置标签和标题\n",
    "ax.set_xlabel('')\n",
    "ax.set_ylabel('$R^2$', fontsize=13)\n",
    "ax.set_title('', fontsize=13)\n",
    "ax.set_xticks(x + width)\n",
    "ax.set_xticklabels(datasets,  fontsize=12,rotation=0)\n",
    "ax.set_yticklabels(ax.get_yticks(), fontsize=12)\n",
    "ax.legend(loc='upper center',\n",
    "          bbox_to_anchor=(0.5,-.25),\n",
    "          title='', fontsize=12,ncols=3)\n",
    "\n",
    "plt.savefig(f'figures/metric/bar-{name}-33.png',dpi=300,bbox_inches='tight')\n",
    "plt.savefig(f'pdf/metric/bar-{name}-33.pdf',dpi=300,bbox_inches='tight')\n",
    "\n",
    "\n"
   ]
  },
  {
   "cell_type": "markdown",
   "id": "55da6aba-0b6e-4329-b834-4694ed953860",
   "metadata": {},
   "source": [
    "## MSE"
   ]
  },
  {
   "cell_type": "code",
   "execution_count": 77,
   "id": "799dff26-624b-41bd-abd7-429496a3d79a",
   "metadata": {},
   "outputs": [
    {
     "data": {
      "text/html": [
       "<div>\n",
       "<style scoped>\n",
       "    .dataframe tbody tr th:only-of-type {\n",
       "        vertical-align: middle;\n",
       "    }\n",
       "\n",
       "    .dataframe tbody tr th {\n",
       "        vertical-align: top;\n",
       "    }\n",
       "\n",
       "    .dataframe thead th {\n",
       "        text-align: right;\n",
       "    }\n",
       "</style>\n",
       "<table border=\"1\" class=\"dataframe\">\n",
       "  <thead>\n",
       "    <tr style=\"text-align: right;\">\n",
       "      <th></th>\n",
       "      <th>mse</th>\n",
       "      <th>dataset</th>\n",
       "      <th>method</th>\n",
       "    </tr>\n",
       "  </thead>\n",
       "  <tbody>\n",
       "    <tr>\n",
       "      <th>0</th>\n",
       "      <td>0.004276</td>\n",
       "      <td>HSC</td>\n",
       "      <td>pearsonr</td>\n",
       "    </tr>\n",
       "    <tr>\n",
       "      <th>1</th>\n",
       "      <td>0.003026</td>\n",
       "      <td>HSC</td>\n",
       "      <td>omicfate</td>\n",
       "    </tr>\n",
       "    <tr>\n",
       "      <th>2</th>\n",
       "      <td>0.005783</td>\n",
       "      <td>DG</td>\n",
       "      <td>pearsonr</td>\n",
       "    </tr>\n",
       "    <tr>\n",
       "      <th>3</th>\n",
       "      <td>0.008826</td>\n",
       "      <td>DG</td>\n",
       "      <td>omicfate</td>\n",
       "    </tr>\n",
       "    <tr>\n",
       "      <th>4</th>\n",
       "      <td>0.008046</td>\n",
       "      <td>DG</td>\n",
       "      <td>likelihoods</td>\n",
       "    </tr>\n",
       "    <tr>\n",
       "      <th>5</th>\n",
       "      <td>0.002197</td>\n",
       "      <td>Pancreas</td>\n",
       "      <td>pearsonr</td>\n",
       "    </tr>\n",
       "    <tr>\n",
       "      <th>6</th>\n",
       "      <td>0.003624</td>\n",
       "      <td>Pancreas</td>\n",
       "      <td>omicfate</td>\n",
       "    </tr>\n",
       "    <tr>\n",
       "      <th>7</th>\n",
       "      <td>0.004496</td>\n",
       "      <td>Pancreas</td>\n",
       "      <td>likelihoods</td>\n",
       "    </tr>\n",
       "  </tbody>\n",
       "</table>\n",
       "</div>"
      ],
      "text/plain": [
       "        mse   dataset       method\n",
       "0  0.004276       HSC     pearsonr\n",
       "1  0.003026       HSC     omicfate\n",
       "2  0.005783        DG     pearsonr\n",
       "3  0.008826        DG     omicfate\n",
       "4  0.008046        DG  likelihoods\n",
       "5  0.002197  Pancreas     pearsonr\n",
       "6  0.003624  Pancreas     omicfate\n",
       "7  0.004496  Pancreas  likelihoods"
      ]
     },
     "execution_count": 77,
     "metadata": {},
     "output_type": "execute_result"
    }
   ],
   "source": [
    "name='mse'\n",
    "plot_data=pd.DataFrame(columns=[name,'dataset','method'])\n",
    "for i in raw_dict.keys():\n",
    "    p1=pd.DataFrame(raw_dict[i][name])\n",
    "    p1['dataset']=i\n",
    "    p1['method']=p1.index\n",
    "    plot_data=pd.concat([plot_data,p1],ignore_index=True)\n",
    "plot_data['dataset']=plot_data['dataset'].map({\n",
    "    'hsc':'HSC',\n",
    "    'dg':'DG',\n",
    "    'pancera':'Pancreas',\n",
    "})\n",
    "plot_data"
   ]
  },
  {
   "cell_type": "code",
   "execution_count": 78,
   "id": "d1758315-2785-4ef7-96ed-fe7192b13fcb",
   "metadata": {},
   "outputs": [
    {
     "name": "stdout",
     "output_type": "stream",
     "text": [
      "All dependencies are satisfied.\n"
     ]
    }
   ],
   "source": [
    "ov.plot_set()"
   ]
  },
  {
   "cell_type": "code",
   "execution_count": 79,
   "id": "34fd8073-1731-4203-bb84-fb737b9f0947",
   "metadata": {},
   "outputs": [],
   "source": [
    "color_dict=dict(zip(methods,\n",
    "                   ov.pl.sc_color[1:4]))"
   ]
  },
  {
   "cell_type": "code",
   "execution_count": 84,
   "id": "7014eff4-2488-49c1-bf92-1b6303d27a3b",
   "metadata": {},
   "outputs": [
    {
     "data": {
      "image/png": "[encoded data removed]",
      "text/plain": [
       "<Figure size 240x240 with 1 Axes>"
      ]
     },
     "metadata": {
      "image/png": {
       "height": 278,
       "width": 323
      }
     },
     "output_type": "display_data"
    }
   ],
   "source": [
    "# 获取唯一的dataset和method\n",
    "datasets = plot_data['dataset'].unique()\n",
    "methods = plot_data['method'].unique()\n",
    "\n",
    "# 设置柱状图的位置和宽度\n",
    "x = np.arange(len(datasets))\n",
    "width = 0.2\n",
    "\n",
    "# 创建一个图表\n",
    "fig, ax = plt.subplots(figsize=(3, 3))\n",
    "\n",
    "# 为每种方法绘制柱状图\n",
    "for i, method in enumerate(methods):\n",
    "    mse_values = []\n",
    "    for dataset in datasets:\n",
    "        value = plot_data[(plot_data['method'] == method) & (plot_data['dataset'] == dataset)][name]\n",
    "        mse_values.append(value.values[0] if not value.empty else 0)\n",
    "    ax.bar(x + i * width, mse_values, width, label=method, alpha=0.6,color=color_dict[method])\n",
    "\n",
    "ax.spines['left'].set_position(('outward', 20))\n",
    "ax.spines['bottom'].set_position(('outward', 20))\n",
    "\n",
    "ax.spines['top'].set_visible(False)\n",
    "ax.spines['right'].set_visible(False)\n",
    "ax.spines['bottom'].set_visible(True)\n",
    "ax.spines['left'].set_visible(True)\n",
    "\n",
    "ax.grid(False)\n",
    "\n",
    "# 设置标签和标题\n",
    "ax.set_xlabel('')\n",
    "ax.set_ylabel('$MSE$', fontsize=13)\n",
    "ax.set_title('', fontsize=13)\n",
    "ax.set_xticks(x + width)\n",
    "ax.set_xticklabels(datasets,  fontsize=12,rotation=0)\n",
    "ax.set_yticklabels(ax.get_yticks(), fontsize=12)\n",
    "ax.legend(loc='upper center',\n",
    "          bbox_to_anchor=(0.5,-.25),\n",
    "          title='', fontsize=12,ncols=3)\n",
    "ax.set_ylim(0,0.01)\n",
    "\n",
    "plt.savefig(f'figures/metric/bar-{name}-33.png',dpi=300,bbox_inches='tight')\n",
    "plt.savefig(f'pdf/metric/bar-{name}-33.pdf',dpi=300,bbox_inches='tight')\n",
    "\n",
    "\n"
   ]
  },
  {
   "cell_type": "markdown",
   "id": "1615dfae-45ac-47e7-982d-6b8168996c8a",
   "metadata": {},
   "source": [
    "## MAE"
   ]
  },
  {
   "cell_type": "code",
   "execution_count": 85,
   "id": "e85f6215-6eb1-4e09-bdff-f4020d7a85e7",
   "metadata": {},
   "outputs": [
    {
     "data": {
      "text/html": [
       "<div>\n",
       "<style scoped>\n",
       "    .dataframe tbody tr th:only-of-type {\n",
       "        vertical-align: middle;\n",
       "    }\n",
       "\n",
       "    .dataframe tbody tr th {\n",
       "        vertical-align: top;\n",
       "    }\n",
       "\n",
       "    .dataframe thead th {\n",
       "        text-align: right;\n",
       "    }\n",
       "</style>\n",
       "<table border=\"1\" class=\"dataframe\">\n",
       "  <thead>\n",
       "    <tr style=\"text-align: right;\">\n",
       "      <th></th>\n",
       "      <th>mae</th>\n",
       "      <th>dataset</th>\n",
       "      <th>method</th>\n",
       "    </tr>\n",
       "  </thead>\n",
       "  <tbody>\n",
       "    <tr>\n",
       "      <th>0</th>\n",
       "      <td>0.047175</td>\n",
       "      <td>HSC</td>\n",
       "      <td>pearsonr</td>\n",
       "    </tr>\n",
       "    <tr>\n",
       "      <th>1</th>\n",
       "      <td>0.038913</td>\n",
       "      <td>HSC</td>\n",
       "      <td>omicfate</td>\n",
       "    </tr>\n",
       "    <tr>\n",
       "      <th>2</th>\n",
       "      <td>0.054288</td>\n",
       "      <td>DG</td>\n",
       "      <td>pearsonr</td>\n",
       "    </tr>\n",
       "    <tr>\n",
       "      <th>3</th>\n",
       "      <td>0.071969</td>\n",
       "      <td>DG</td>\n",
       "      <td>omicfate</td>\n",
       "    </tr>\n",
       "    <tr>\n",
       "      <th>4</th>\n",
       "      <td>0.065664</td>\n",
       "      <td>DG</td>\n",
       "      <td>likelihoods</td>\n",
       "    </tr>\n",
       "    <tr>\n",
       "      <th>5</th>\n",
       "      <td>0.036625</td>\n",
       "      <td>Pancreas</td>\n",
       "      <td>pearsonr</td>\n",
       "    </tr>\n",
       "    <tr>\n",
       "      <th>6</th>\n",
       "      <td>0.047534</td>\n",
       "      <td>Pancreas</td>\n",
       "      <td>omicfate</td>\n",
       "    </tr>\n",
       "    <tr>\n",
       "      <th>7</th>\n",
       "      <td>0.051888</td>\n",
       "      <td>Pancreas</td>\n",
       "      <td>likelihoods</td>\n",
       "    </tr>\n",
       "  </tbody>\n",
       "</table>\n",
       "</div>"
      ],
      "text/plain": [
       "        mae   dataset       method\n",
       "0  0.047175       HSC     pearsonr\n",
       "1  0.038913       HSC     omicfate\n",
       "2  0.054288        DG     pearsonr\n",
       "3  0.071969        DG     omicfate\n",
       "4  0.065664        DG  likelihoods\n",
       "5  0.036625  Pancreas     pearsonr\n",
       "6  0.047534  Pancreas     omicfate\n",
       "7  0.051888  Pancreas  likelihoods"
      ]
     },
     "execution_count": 85,
     "metadata": {},
     "output_type": "execute_result"
    }
   ],
   "source": [
    "name='mae'\n",
    "plot_data=pd.DataFrame(columns=[name,'dataset','method'])\n",
    "for i in raw_dict.keys():\n",
    "    p1=pd.DataFrame(raw_dict[i][name])\n",
    "    p1['dataset']=i\n",
    "    p1['method']=p1.index\n",
    "    plot_data=pd.concat([plot_data,p1],ignore_index=True)\n",
    "plot_data['dataset']=plot_data['dataset'].map({\n",
    "    'hsc':'HSC',\n",
    "    'dg':'DG',\n",
    "    'pancera':'Pancreas',\n",
    "})\n",
    "plot_data"
   ]
  },
  {
   "cell_type": "code",
   "execution_count": 86,
   "id": "bc9d2ada-3a69-44ed-9b45-1144c852a600",
   "metadata": {},
   "outputs": [
    {
     "name": "stdout",
     "output_type": "stream",
     "text": [
      "All dependencies are satisfied.\n"
     ]
    }
   ],
   "source": [
    "ov.plot_set()"
   ]
  },
  {
   "cell_type": "code",
   "execution_count": 87,
   "id": "0b52c439-f79e-4bfb-8852-65efd0550b5e",
   "metadata": {},
   "outputs": [],
   "source": [
    "color_dict=dict(zip(methods,\n",
    "                   ov.pl.sc_color[1:4]))"
   ]
  },
  {
   "cell_type": "code",
   "execution_count": 89,
   "id": "a9d5e915-f90b-4acb-ad22-c34a4257fe10",
   "metadata": {},
   "outputs": [
    {
     "data": {
      "image/png": "[encoded data removed]",
      "text/plain": [
       "<Figure size 240x240 with 1 Axes>"
      ]
     },
     "metadata": {
      "image/png": {
       "height": 273,
       "width": 316
      }
     },
     "output_type": "display_data"
    }
   ],
   "source": [
    "# 获取唯一的dataset和method\n",
    "datasets = plot_data['dataset'].unique()\n",
    "methods = plot_data['method'].unique()\n",
    "\n",
    "# 设置柱状图的位置和宽度\n",
    "x = np.arange(len(datasets))\n",
    "width = 0.2\n",
    "\n",
    "# 创建一个图表\n",
    "fig, ax = plt.subplots(figsize=(3, 3))\n",
    "\n",
    "# 为每种方法绘制柱状图\n",
    "for i, method in enumerate(methods):\n",
    "    mse_values = []\n",
    "    for dataset in datasets:\n",
    "        value = plot_data[(plot_data['method'] == method) & (plot_data['dataset'] == dataset)][name]\n",
    "        mse_values.append(value.values[0] if not value.empty else 0)\n",
    "    ax.bar(x + i * width, mse_values, width, label=method, alpha=0.6,color=color_dict[method])\n",
    "\n",
    "ax.spines['left'].set_position(('outward', 20))\n",
    "ax.spines['bottom'].set_position(('outward', 20))\n",
    "\n",
    "ax.spines['top'].set_visible(False)\n",
    "ax.spines['right'].set_visible(False)\n",
    "ax.spines['bottom'].set_visible(True)\n",
    "ax.spines['left'].set_visible(True)\n",
    "\n",
    "ax.grid(False)\n",
    "\n",
    "# 设置标签和标题\n",
    "ax.set_xlabel('')\n",
    "ax.set_ylabel('$MAE$', fontsize=13)\n",
    "ax.set_title('', fontsize=13)\n",
    "ax.set_xticks(x + width)\n",
    "ax.set_xticklabels(datasets,  fontsize=12,rotation=0)\n",
    "ax.set_yticklabels(ax.get_yticks(), fontsize=12)\n",
    "ax.legend(loc='upper center',\n",
    "          bbox_to_anchor=(0.5,-.25),\n",
    "          title='', fontsize=12,ncols=3)\n",
    "#ax.set_ylim(0,0.01)\n",
    "\n",
    "plt.savefig(f'figures/metric/bar-{name}-33.png',dpi=300,bbox_inches='tight')\n",
    "plt.savefig(f'pdf/metric/bar-{name}-33.pdf',dpi=300,bbox_inches='tight')\n",
    "\n",
    "\n"
   ]
  },
  {
   "cell_type": "markdown",
   "id": "182a272b-0f2f-424e-9e49-5971cf8e5c81",
   "metadata": {},
   "source": [
    "## num_genes"
   ]
  },
  {
   "cell_type": "code",
   "execution_count": 90,
   "id": "98da5dae-0cf6-4d53-b0a2-ef867aaa4916",
   "metadata": {},
   "outputs": [
    {
     "data": {
      "text/html": [
       "<div>\n",
       "<style scoped>\n",
       "    .dataframe tbody tr th:only-of-type {\n",
       "        vertical-align: middle;\n",
       "    }\n",
       "\n",
       "    .dataframe tbody tr th {\n",
       "        vertical-align: top;\n",
       "    }\n",
       "\n",
       "    .dataframe thead th {\n",
       "        text-align: right;\n",
       "    }\n",
       "</style>\n",
       "<table border=\"1\" class=\"dataframe\">\n",
       "  <thead>\n",
       "    <tr style=\"text-align: right;\">\n",
       "      <th></th>\n",
       "      <th>num_genes</th>\n",
       "      <th>dataset</th>\n",
       "      <th>method</th>\n",
       "    </tr>\n",
       "  </thead>\n",
       "  <tbody>\n",
       "    <tr>\n",
       "      <th>0</th>\n",
       "      <td>125.0</td>\n",
       "      <td>HSC</td>\n",
       "      <td>pearsonr</td>\n",
       "    </tr>\n",
       "    <tr>\n",
       "      <th>1</th>\n",
       "      <td>74.0</td>\n",
       "      <td>HSC</td>\n",
       "      <td>omicfate</td>\n",
       "    </tr>\n",
       "    <tr>\n",
       "      <th>2</th>\n",
       "      <td>146.0</td>\n",
       "      <td>DG</td>\n",
       "      <td>pearsonr</td>\n",
       "    </tr>\n",
       "    <tr>\n",
       "      <th>3</th>\n",
       "      <td>106.0</td>\n",
       "      <td>DG</td>\n",
       "      <td>omicfate</td>\n",
       "    </tr>\n",
       "    <tr>\n",
       "      <th>4</th>\n",
       "      <td>200.0</td>\n",
       "      <td>DG</td>\n",
       "      <td>likelihoods</td>\n",
       "    </tr>\n",
       "    <tr>\n",
       "      <th>5</th>\n",
       "      <td>290.0</td>\n",
       "      <td>Pancreas</td>\n",
       "      <td>pearsonr</td>\n",
       "    </tr>\n",
       "    <tr>\n",
       "      <th>6</th>\n",
       "      <td>152.0</td>\n",
       "      <td>Pancreas</td>\n",
       "      <td>omicfate</td>\n",
       "    </tr>\n",
       "    <tr>\n",
       "      <th>7</th>\n",
       "      <td>200.0</td>\n",
       "      <td>Pancreas</td>\n",
       "      <td>likelihoods</td>\n",
       "    </tr>\n",
       "  </tbody>\n",
       "</table>\n",
       "</div>"
      ],
      "text/plain": [
       "   num_genes   dataset       method\n",
       "0      125.0       HSC     pearsonr\n",
       "1       74.0       HSC     omicfate\n",
       "2      146.0        DG     pearsonr\n",
       "3      106.0        DG     omicfate\n",
       "4      200.0        DG  likelihoods\n",
       "5      290.0  Pancreas     pearsonr\n",
       "6      152.0  Pancreas     omicfate\n",
       "7      200.0  Pancreas  likelihoods"
      ]
     },
     "execution_count": 90,
     "metadata": {},
     "output_type": "execute_result"
    }
   ],
   "source": [
    "name='num_genes'\n",
    "plot_data=pd.DataFrame(columns=[name,'dataset','method'])\n",
    "for i in raw_dict.keys():\n",
    "    p1=pd.DataFrame(raw_dict[i][name])\n",
    "    p1['dataset']=i\n",
    "    p1['method']=p1.index\n",
    "    plot_data=pd.concat([plot_data,p1],ignore_index=True)\n",
    "plot_data['dataset']=plot_data['dataset'].map({\n",
    "    'hsc':'HSC',\n",
    "    'dg':'DG',\n",
    "    'pancera':'Pancreas',\n",
    "})\n",
    "plot_data"
   ]
  },
  {
   "cell_type": "code",
   "execution_count": 91,
   "id": "55755cb8-d0fd-4ee0-ad97-fad5d5443fe1",
   "metadata": {},
   "outputs": [
    {
     "name": "stdout",
     "output_type": "stream",
     "text": [
      "All dependencies are satisfied.\n"
     ]
    }
   ],
   "source": [
    "ov.plot_set()"
   ]
  },
  {
   "cell_type": "code",
   "execution_count": 92,
   "id": "83df4194-3a04-4578-90a9-ddf7d78c4ae8",
   "metadata": {},
   "outputs": [],
   "source": [
    "color_dict=dict(zip(methods,\n",
    "                   ov.pl.sc_color[1:4]))"
   ]
  },
  {
   "cell_type": "code",
   "execution_count": 93,
   "id": "634c3083-4514-41ca-a314-65758da9bf22",
   "metadata": {},
   "outputs": [
    {
     "data": {
      "image/png": "[encoded data removed]",
      "text/plain": [
       "<Figure size 240x240 with 1 Axes>"
      ]
     },
     "metadata": {
      "image/png": {
       "height": 275,
       "width": 323
      }
     },
     "output_type": "display_data"
    }
   ],
   "source": [
    "# 获取唯一的dataset和method\n",
    "datasets = plot_data['dataset'].unique()\n",
    "methods = plot_data['method'].unique()\n",
    "\n",
    "# 设置柱状图的位置和宽度\n",
    "x = np.arange(len(datasets))\n",
    "width = 0.2\n",
    "\n",
    "# 创建一个图表\n",
    "fig, ax = plt.subplots(figsize=(3, 3))\n",
    "\n",
    "# 为每种方法绘制柱状图\n",
    "for i, method in enumerate(methods):\n",
    "    mse_values = []\n",
    "    for dataset in datasets:\n",
    "        value = plot_data[(plot_data['method'] == method) & (plot_data['dataset'] == dataset)][name]\n",
    "        mse_values.append(value.values[0] if not value.empty else 0)\n",
    "    ax.bar(x + i * width, mse_values, width, label=method, alpha=0.6,color=color_dict[method])\n",
    "\n",
    "ax.spines['left'].set_position(('outward', 20))\n",
    "ax.spines['bottom'].set_position(('outward', 20))\n",
    "\n",
    "ax.spines['top'].set_visible(False)\n",
    "ax.spines['right'].set_visible(False)\n",
    "ax.spines['bottom'].set_visible(True)\n",
    "ax.spines['left'].set_visible(True)\n",
    "\n",
    "ax.grid(False)\n",
    "\n",
    "# 设置标签和标题\n",
    "ax.set_xlabel('')\n",
    "ax.set_ylabel('$Number of Genes$', fontsize=13)\n",
    "ax.set_title('', fontsize=13)\n",
    "ax.set_xticks(x + width)\n",
    "ax.set_xticklabels(datasets,  fontsize=12,rotation=0)\n",
    "ax.set_yticklabels(ax.get_yticks(), fontsize=12)\n",
    "ax.legend(loc='upper center',\n",
    "          bbox_to_anchor=(0.5,-.25),\n",
    "          title='', fontsize=12,ncols=3)\n",
    "#ax.set_ylim(0,0.01)\n",
    "\n",
    "plt.savefig(f'figures/metric/bar-{name}-33.png',dpi=300,bbox_inches='tight')\n",
    "plt.savefig(f'pdf/metric/bar-{name}-33.pdf',dpi=300,bbox_inches='tight')\n",
    "\n",
    "\n"
   ]
  },
  {
   "cell_type": "markdown",
   "id": "1be7120e-ca43-4a0b-ae10-c01a1651b022",
   "metadata": {},
   "source": [
    "## Kendalltau"
   ]
  },
  {
   "cell_type": "code",
   "execution_count": 94,
   "id": "0239cb50-b90d-48da-a903-dcd3104ca2c6",
   "metadata": {},
   "outputs": [
    {
     "data": {
      "text/html": [
       "<div>\n",
       "<style scoped>\n",
       "    .dataframe tbody tr th:only-of-type {\n",
       "        vertical-align: middle;\n",
       "    }\n",
       "\n",
       "    .dataframe tbody tr th {\n",
       "        vertical-align: top;\n",
       "    }\n",
       "\n",
       "    .dataframe thead th {\n",
       "        text-align: right;\n",
       "    }\n",
       "</style>\n",
       "<table border=\"1\" class=\"dataframe\">\n",
       "  <thead>\n",
       "    <tr style=\"text-align: right;\">\n",
       "      <th></th>\n",
       "      <th>Kendalltau</th>\n",
       "      <th>dataset</th>\n",
       "      <th>method</th>\n",
       "    </tr>\n",
       "  </thead>\n",
       "  <tbody>\n",
       "    <tr>\n",
       "      <th>0</th>\n",
       "      <td>0.382785</td>\n",
       "      <td>HSC</td>\n",
       "      <td>pearsonr</td>\n",
       "    </tr>\n",
       "    <tr>\n",
       "      <th>1</th>\n",
       "      <td>0.690959</td>\n",
       "      <td>HSC</td>\n",
       "      <td>omicfate</td>\n",
       "    </tr>\n",
       "    <tr>\n",
       "      <th>2</th>\n",
       "      <td>0.758071</td>\n",
       "      <td>DG</td>\n",
       "      <td>pearsonr</td>\n",
       "    </tr>\n",
       "    <tr>\n",
       "      <th>3</th>\n",
       "      <td>0.877412</td>\n",
       "      <td>DG</td>\n",
       "      <td>omicfate</td>\n",
       "    </tr>\n",
       "    <tr>\n",
       "      <th>4</th>\n",
       "      <td>0.872844</td>\n",
       "      <td>DG</td>\n",
       "      <td>likelihoods</td>\n",
       "    </tr>\n",
       "    <tr>\n",
       "      <th>5</th>\n",
       "      <td>0.927444</td>\n",
       "      <td>Pancreas</td>\n",
       "      <td>pearsonr</td>\n",
       "    </tr>\n",
       "    <tr>\n",
       "      <th>6</th>\n",
       "      <td>0.911992</td>\n",
       "      <td>Pancreas</td>\n",
       "      <td>omicfate</td>\n",
       "    </tr>\n",
       "    <tr>\n",
       "      <th>7</th>\n",
       "      <td>0.903738</td>\n",
       "      <td>Pancreas</td>\n",
       "      <td>likelihoods</td>\n",
       "    </tr>\n",
       "  </tbody>\n",
       "</table>\n",
       "</div>"
      ],
      "text/plain": [
       "   Kendalltau   dataset       method\n",
       "0    0.382785       HSC     pearsonr\n",
       "1    0.690959       HSC     omicfate\n",
       "2    0.758071        DG     pearsonr\n",
       "3    0.877412        DG     omicfate\n",
       "4    0.872844        DG  likelihoods\n",
       "5    0.927444  Pancreas     pearsonr\n",
       "6    0.911992  Pancreas     omicfate\n",
       "7    0.903738  Pancreas  likelihoods"
      ]
     },
     "execution_count": 94,
     "metadata": {},
     "output_type": "execute_result"
    }
   ],
   "source": [
    "name='Kendalltau'\n",
    "plot_data=pd.DataFrame(columns=[name,'dataset','method'])\n",
    "for i in raw_dict.keys():\n",
    "    p1=pd.DataFrame(raw_dict[i][name])\n",
    "    p1['dataset']=i\n",
    "    p1['method']=p1.index\n",
    "    plot_data=pd.concat([plot_data,p1],ignore_index=True)\n",
    "plot_data['dataset']=plot_data['dataset'].map({\n",
    "    'hsc':'HSC',\n",
    "    'dg':'DG',\n",
    "    'pancera':'Pancreas',\n",
    "})\n",
    "plot_data"
   ]
  },
  {
   "cell_type": "code",
   "execution_count": 95,
   "id": "11f3e914-554a-4c7d-9e62-ac2440ab845e",
   "metadata": {},
   "outputs": [
    {
     "name": "stdout",
     "output_type": "stream",
     "text": [
      "All dependencies are satisfied.\n"
     ]
    }
   ],
   "source": [
    "ov.plot_set()"
   ]
  },
  {
   "cell_type": "code",
   "execution_count": 96,
   "id": "cf94700d-ff3e-4d3e-a1ee-66155742d9a5",
   "metadata": {},
   "outputs": [],
   "source": [
    "color_dict=dict(zip(methods,\n",
    "                   ov.pl.sc_color[1:4]))"
   ]
  },
  {
   "cell_type": "code",
   "execution_count": 99,
   "id": "8a0f1dd2-3b52-4256-8b78-27967733120f",
   "metadata": {},
   "outputs": [
    {
     "data": {
      "image/png": "[encoded data removed]",
      "text/plain": [
       "<Figure size 240x240 with 1 Axes>"
      ]
     },
     "metadata": {
      "image/png": {
       "height": 273,
       "width": 309
      }
     },
     "output_type": "display_data"
    }
   ],
   "source": [
    "# 获取唯一的dataset和method\n",
    "datasets = plot_data['dataset'].unique()\n",
    "methods = plot_data['method'].unique()\n",
    "\n",
    "# 设置柱状图的位置和宽度\n",
    "x = np.arange(len(datasets))\n",
    "width = 0.2\n",
    "\n",
    "# 创建一个图表\n",
    "fig, ax = plt.subplots(figsize=(3, 3))\n",
    "\n",
    "# 为每种方法绘制柱状图\n",
    "for i, method in enumerate(methods):\n",
    "    mse_values = []\n",
    "    for dataset in datasets:\n",
    "        value = plot_data[(plot_data['method'] == method) & (plot_data['dataset'] == dataset)][name]\n",
    "        mse_values.append(value.values[0] if not value.empty else 0)\n",
    "    ax.bar(x + i * width, mse_values, width, label=method, alpha=0.6,color=color_dict[method])\n",
    "\n",
    "ax.spines['left'].set_position(('outward', 20))\n",
    "ax.spines['bottom'].set_position(('outward', 20))\n",
    "\n",
    "ax.spines['top'].set_visible(False)\n",
    "ax.spines['right'].set_visible(False)\n",
    "ax.spines['bottom'].set_visible(True)\n",
    "ax.spines['left'].set_visible(True)\n",
    "\n",
    "ax.grid(False)\n",
    "\n",
    "# 设置标签和标题\n",
    "ax.set_xlabel('')\n",
    "ax.set_ylabel('$Kendall’s tau$', fontsize=13)\n",
    "ax.set_title('', fontsize=13)\n",
    "ax.set_xticks(x + width)\n",
    "ax.set_xticklabels(datasets,  fontsize=12,rotation=0)\n",
    "ax.set_yticklabels([round(i,2) for i in ax.get_yticks()], fontsize=12)\n",
    "ax.legend(loc='upper center',\n",
    "          bbox_to_anchor=(0.5,-.25),\n",
    "          title='', fontsize=12,ncols=3)\n",
    "#ax.set_ylim(0,0.01)\n",
    "\n",
    "plt.savefig(f'figures/metric/bar-{name}-33.png',dpi=300,bbox_inches='tight')\n",
    "plt.savefig(f'pdf/metric/bar-{name}-33.pdf',dpi=300,bbox_inches='tight')\n",
    "\n",
    "\n"
   ]
  },
  {
   "cell_type": "code",
   "execution_count": null,
   "id": "5ff5534d-7431-4615-8f63-d0a4a1b08a25",
   "metadata": {},
   "outputs": [],
   "source": []
  }
 ],
 "metadata": {
  "kernelspec": {
   "display_name": "Python 3 (ipykernel)",
   "language": "python",
   "name": "python3"
  },
  "language_info": {
   "codemirror_mode": {
    "name": "ipython",
    "version": 3
   },
   "file_extension": ".py",
   "mimetype": "text/x-python",
   "name": "python",
   "nbconvert_exporter": "python",
   "pygments_lexer": "ipython3",
   "version": "3.10.14"
  }
 },
 "nbformat": 4,
 "nbformat_minor": 5
}
